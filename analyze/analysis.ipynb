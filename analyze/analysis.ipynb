{
 "cells": [
  {
   "cell_type": "markdown",
   "metadata": {},
   "source": [
    "# Analysis"
   ]
  },
  {
   "cell_type": "code",
   "execution_count": null,
   "metadata": {},
   "outputs": [],
   "source": [
    "from file import read, write\n",
    "import pandas as pd"
   ]
  },
  {
   "cell_type": "code",
   "execution_count": null,
   "metadata": {},
   "outputs": [],
   "source": [
    "TEAMS = {}\n",
    "\n",
    "for team in read('data/teams.json'):\n",
    "    teamID = team[\"team_id\"]\n",
    "    TEAMS[teamID] = team"
   ]
  },
  {
   "cell_type": "code",
   "execution_count": null,
   "metadata": {},
   "outputs": [],
   "source": [
    "games = read('data/games.json')\n",
    "\n",
    "gamesToRemove = []\n",
    "for i in range(len(games)):\n",
    "    game = games[i]\n",
    "\n",
    "    if 'start_time' not in game:\n",
    "        gamesToRemove.append(i)\n",
    "\n",
    "    remove = []\n",
    "    for key, value in game.items():\n",
    "        if type(value) == type(\"string\"):\n",
    "            remove.append(key)\n",
    "    \n",
    "    for key in remove:\n",
    "        del game[key]\n",
    "\n",
    "for index in sorted(gamesToRemove, reverse=True):\n",
    "    del games[index]"
   ]
  },
  {
   "cell_type": "code",
   "execution_count": null,
   "metadata": {},
   "outputs": [],
   "source": [
    "df = pd.DataFrame(games)\n",
    "\n",
    "# clean\n",
    "df = df.dropna(axis='columns')\n",
    "\n",
    "# normalize\n",
    "for column in df.columns:\n",
    "    df[column] = (df[column] - df[column].mean()) / df[column].std()     \n",
    "    \n",
    "df"
   ]
  },
  {
   "cell_type": "code",
   "execution_count": null,
   "metadata": {},
   "outputs": [],
   "source": [
    "import numpy as np\n",
    "from sklearn.decomposition import PCA"
   ]
  },
  {
   "cell_type": "code",
   "execution_count": null,
   "metadata": {},
   "outputs": [],
   "source": [
    "pca = PCA(n_components=5, whiten=False)\n",
    "pca.fit(df)\n",
    "\n",
    "print(pca.explained_variance_ratio_)\n",
    "print(pca.singular_values_)"
   ]
  },
  {
   "cell_type": "code",
   "execution_count": null,
   "metadata": {},
   "outputs": [],
   "source": [
    "gameCounts = {}\n",
    "for game in read('data/games.json'):\n",
    "    red = game['red_id'] if 'red_id' in game else ''\n",
    "    blue = game['blue_id'] if 'blue_id' in game else ''\n",
    "\n",
    "    if red:\n",
    "        if red in gameCounts:\n",
    "            gameCounts[red] += 1 \n",
    "        else: gameCounts[red] = 1\n",
    "    if blue:\n",
    "        if blue in gameCounts:\n",
    "            gameCounts[blue] += 1\n",
    "        else: gameCounts[blue] = 1\n",
    "\n",
    "counts = []\n",
    "for team, count in gameCounts.items():\n",
    "    counts.append({'team_id': team, 'count': count})\n",
    "\n",
    "counts.sort(key=lambda x: x['count'], reverse=True)\n",
    "\n",
    "df = pd.DataFrame(counts)\n",
    "print(df['count'].mean())\n",
    "counts"
   ]
  },
  {
   "cell_type": "code",
   "execution_count": null,
   "metadata": {},
   "outputs": [],
   "source": [
    "from pyvis.network import Network\n",
    "\n",
    "\n",
    "teams = read('data/teams.json')\n",
    "\n",
    "net = Network(notebook=True, cdn_resources='in_line')\n",
    "for team in teams:\n",
    "    net.add_node(team['team_id'], label=team['name'])\n",
    "\n",
    "games = read('data/games.json')\n",
    "for game in games:\n",
    "    red = game['red_id']\n",
    "    blue = game['blue_id']\n",
    "\n",
    "    if red in TEAMS and blue in TEAMS:\n",
    "        net.add_edge(red, blue, value=1)\n",
    "\n",
    "net.show(\"network.html\")"
   ]
  },
  {
   "cell_type": "code",
   "execution_count": null,
   "metadata": {},
   "outputs": [],
   "source": []
  },
  {
   "cell_type": "code",
   "execution_count": null,
   "metadata": {},
   "outputs": [],
   "source": []
  },
  {
   "cell_type": "code",
   "execution_count": null,
   "metadata": {},
   "outputs": [],
   "source": []
  }
 ],
 "metadata": {
  "kernelspec": {
   "display_name": "Python 3",
   "language": "python",
   "name": "python3"
  },
  "language_info": {
   "codemirror_mode": {
    "name": "ipython",
    "version": 3
   },
   "file_extension": ".py",
   "mimetype": "text/x-python",
   "name": "python",
   "nbconvert_exporter": "python",
   "pygments_lexer": "ipython3",
   "version": "3.11.3"
  }
 },
 "nbformat": 4,
 "nbformat_minor": 2
}
