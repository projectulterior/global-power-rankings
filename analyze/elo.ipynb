{
 "cells": [
  {
   "cell_type": "markdown",
   "metadata": {},
   "source": [
    "# Elo"
   ]
  },
  {
   "cell_type": "code",
   "execution_count": null,
   "metadata": {
    "vscode": {
     "languageId": "plaintext"
    }
   },
   "outputs": [],
   "source": [
    "# Python 3 program for Elo Rating\n",
    "import math\n",
    " \n",
    "# Function to calculate the Probability\n",
    " \n",
    " \n",
    "def Probability(rating1, rating2):\n",
    " \n",
    "    return 1.0 * 1.0 / (1 + 1.0 * math.pow(10, 1.0 * (rating1 - rating2) / 400))\n",
    " \n",
    " \n",
    "# Function to calculate Elo rating\n",
    "# K is a constant.\n",
    "# d determines whether\n",
    "# Player A wins or Player B.\n",
    "def EloRating(Ra, Rb, K, d):\n",
    " \n",
    "    # To calculate the Winning\n",
    "    # Probability of Player B\n",
    "    Pb = Probability(Ra, Rb)\n",
    " \n",
    "    # To calculate the Winning\n",
    "    # Probability of Player A\n",
    "    Pa = Probability(Rb, Ra)\n",
    " \n",
    "    # Case -1 When Player A wins\n",
    "    # Updating the Elo Ratings\n",
    "    if (d == 1):\n",
    "        Ra = Ra + K * (1 - Pa)\n",
    "        Rb = Rb + K * (0 - Pb)\n",
    " \n",
    "    # Case -2 When Player B wins\n",
    "    # Updating the Elo Ratings\n",
    "    else:\n",
    "        Ra = Ra + K * (0 - Pa)\n",
    "        Rb = Rb + K * (1 - Pb)\n",
    " \n",
    "    print(\"Updated Ratings:-\")\n",
    "    print(\"Ra =\", round(Ra, 6), \" Rb =\", round(Rb, 6))\n",
    " \n",
    "# Driver code\n",
    " \n",
    " \n",
    "# Ra and Rb are current ELO ratings\n",
    "Ra = 1200\n",
    "Rb = 1000\n",
    "K = 30\n",
    "d = 1\n",
    "EloRating(Ra, Rb, K, d)"
   ]
  },
  {
   "cell_type": "code",
   "execution_count": null,
   "metadata": {
    "vscode": {
     "languageId": "plaintext"
    }
   },
   "outputs": [],
   "source": []
  }
 ],
 "metadata": {
  "language_info": {
   "name": "python"
  }
 },
 "nbformat": 4,
 "nbformat_minor": 2
}
