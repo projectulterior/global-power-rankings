{
 "cells": [
  {
   "cell_type": "markdown",
   "metadata": {},
   "source": [
    "# Data Exploration"
   ]
  },
  {
   "cell_type": "code",
   "execution_count": null,
   "metadata": {},
   "outputs": [],
   "source": []
  },
  {
   "cell_type": "markdown",
   "metadata": {},
   "source": [
    "### Parse Files"
   ]
  },
  {
   "cell_type": "code",
   "execution_count": 9,
   "metadata": {},
   "outputs": [],
   "source": [
    "import json\n",
    "\n",
    "FILES = [\n",
    "    'leagues.json',\n",
    "    'player.json',\n",
    "    'teams.json',\n",
    "    'tournaments.json',\n",
    "]\n",
    "\n",
    "def parse(filename):\n",
    "    f = open(filename)\n",
    "    data = json.load(f)\n",
    "    f.close()\n",
    "    return data\n",
    "\n",
    "leagues = parse('data/leagues.json')\n",
    "players = parse('data/player.json')\n",
    "teams = parse('data/teams.json')\n",
    "tournaments = parse('data/tournaments.json')"
   ]
  },
  {
   "cell_type": "markdown",
   "metadata": {},
   "source": [
    "### Pandas"
   ]
  },
  {
   "cell_type": "code",
   "execution_count": 17,
   "metadata": {},
   "outputs": [
    {
     "data": {
      "text/plain": [
       "'2.1.1'"
      ]
     },
     "execution_count": 17,
     "metadata": {},
     "output_type": "execute_result"
    }
   ],
   "source": [
    "import pandas\n",
    "pandas.__version__"
   ]
  },
  {
   "cell_type": "code",
   "execution_count": 20,
   "metadata": {},
   "outputs": [],
   "source": [
    "leagues = pandas.DataFrame(leagues)\n",
    "players = pandas.DataFrame(players)\n",
    "teams = pandas.DataFrame(teams)\n",
    "tournaments = pandas.DataFrame(tournaments)"
   ]
  },
  {
   "cell_type": "code",
   "execution_count": 14,
   "metadata": {},
   "outputs": [
    {
     "name": "stdout",
     "output_type": "stream",
     "text": [
      "leagues : 38\n"
     ]
    },
    {
     "ename": "AttributeError",
     "evalue": "'list' object has no attribute 'keys'",
     "output_type": "error",
     "traceback": [
      "\u001b[0;31m---------------------------------------------------------------------------\u001b[0m",
      "\u001b[0;31mAttributeError\u001b[0m                            Traceback (most recent call last)",
      "\u001b[1;32m/Users/fwaygo/Desktop/projectulterior/global-power-rankings/data_exploration.ipynb Cell 5\u001b[0m line \u001b[0;36m6\n\u001b[1;32m      <a href='vscode-notebook-cell:/Users/fwaygo/Desktop/projectulterior/global-power-rankings/data_exploration.ipynb#W3sZmlsZQ%3D%3D?line=1'>2</a>\u001b[0m     \u001b[39mprint\u001b[39m(name, \u001b[39m\"\u001b[39m\u001b[39m:\u001b[39m\u001b[39m\"\u001b[39m, \u001b[39mlen\u001b[39m(data))\n\u001b[1;32m      <a href='vscode-notebook-cell:/Users/fwaygo/Desktop/projectulterior/global-power-rankings/data_exploration.ipynb#W3sZmlsZQ%3D%3D?line=2'>3</a>\u001b[0m     \u001b[39mprint\u001b[39m(\u001b[39m\"\u001b[39m\u001b[39mkeys:\u001b[39m\u001b[39m\"\u001b[39m, data\u001b[39m.\u001b[39mkeys())\n\u001b[0;32m----> <a href='vscode-notebook-cell:/Users/fwaygo/Desktop/projectulterior/global-power-rankings/data_exploration.ipynb#W3sZmlsZQ%3D%3D?line=5'>6</a>\u001b[0m metadata(\u001b[39m\"\u001b[39;49m\u001b[39mleagues\u001b[39;49m\u001b[39m\"\u001b[39;49m, leagues)\n\u001b[1;32m      <a href='vscode-notebook-cell:/Users/fwaygo/Desktop/projectulterior/global-power-rankings/data_exploration.ipynb#W3sZmlsZQ%3D%3D?line=6'>7</a>\u001b[0m metadata(\u001b[39m\"\u001b[39m\u001b[39mplayers\u001b[39m\u001b[39m\"\u001b[39m, players)\n\u001b[1;32m      <a href='vscode-notebook-cell:/Users/fwaygo/Desktop/projectulterior/global-power-rankings/data_exploration.ipynb#W3sZmlsZQ%3D%3D?line=7'>8</a>\u001b[0m metadata(\u001b[39m\"\u001b[39m\u001b[39mteams\u001b[39m\u001b[39m\"\u001b[39m, teams)\n",
      "\u001b[1;32m/Users/fwaygo/Desktop/projectulterior/global-power-rankings/data_exploration.ipynb Cell 5\u001b[0m line \u001b[0;36m3\n\u001b[1;32m      <a href='vscode-notebook-cell:/Users/fwaygo/Desktop/projectulterior/global-power-rankings/data_exploration.ipynb#W3sZmlsZQ%3D%3D?line=0'>1</a>\u001b[0m \u001b[39mdef\u001b[39;00m \u001b[39mmetadata\u001b[39m(name, data):\n\u001b[1;32m      <a href='vscode-notebook-cell:/Users/fwaygo/Desktop/projectulterior/global-power-rankings/data_exploration.ipynb#W3sZmlsZQ%3D%3D?line=1'>2</a>\u001b[0m     \u001b[39mprint\u001b[39m(name, \u001b[39m\"\u001b[39m\u001b[39m:\u001b[39m\u001b[39m\"\u001b[39m, \u001b[39mlen\u001b[39m(data))\n\u001b[0;32m----> <a href='vscode-notebook-cell:/Users/fwaygo/Desktop/projectulterior/global-power-rankings/data_exploration.ipynb#W3sZmlsZQ%3D%3D?line=2'>3</a>\u001b[0m     \u001b[39mprint\u001b[39m(\u001b[39m\"\u001b[39m\u001b[39mkeys:\u001b[39m\u001b[39m\"\u001b[39m, data\u001b[39m.\u001b[39;49mkeys())\n",
      "\u001b[0;31mAttributeError\u001b[0m: 'list' object has no attribute 'keys'"
     ]
    }
   ],
   "source": [
    "leagues"
   ]
  },
  {
   "cell_type": "code",
   "execution_count": null,
   "metadata": {},
   "outputs": [],
   "source": []
  }
 ],
 "metadata": {
  "kernelspec": {
   "display_name": "Python 3",
   "language": "python",
   "name": "python3"
  },
  "language_info": {
   "codemirror_mode": {
    "name": "ipython",
    "version": 3
   },
   "file_extension": ".py",
   "mimetype": "text/x-python",
   "name": "python",
   "nbconvert_exporter": "python",
   "pygments_lexer": "ipython3",
   "version": "3.11.3"
  },
  "orig_nbformat": 4
 },
 "nbformat": 4,
 "nbformat_minor": 2
}
